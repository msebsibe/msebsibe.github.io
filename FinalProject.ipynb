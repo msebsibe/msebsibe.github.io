{
 "cells": [
  {
   "cell_type": "markdown",
   "id": "b24d2f54-1eb2-4640-83d9-9ff3e158e10f",
   "metadata": {},
   "source": [
    "Examining the Hidden Gems: Wine for Casuals Consumer"
   ]
  },
  {
   "cell_type": "markdown",
   "id": "9ded2985-8b15-4162-ad03-e9c5121903fb",
   "metadata": {},
   "source": [
    "Matthew Sebsibe"
   ]
  },
  {
   "cell_type": "markdown",
   "id": "0ca31475-57a9-41c4-8a95-7a6292107603",
   "metadata": {},
   "source": [
    "**Introduction**"
   ]
  },
  {
   "cell_type": "markdown",
   "id": "20e8c137-4f80-4491-a4b9-0bfd99c1206e",
   "metadata": {},
   "source": [
    "While researching topics to focus on I went to Total Wine to buy my sister a gift. There I felt overwhelmed by the analysis paralysis that is a Walmart for wine. Displayed in the chart below are some classifications of wine. It is very expanisve. There are over 10,000 wine grape varieties in the world. Some major categories include: red, white, rose, sparkling and fortified wine. Personally, I wanted to create a project that I felt would be useful to myself in understanding this massive space. In addition, my goal is to use Data Science to simplify the area. Wine is synonymous to snobbery, however, there are many great bottles for relatively cheap. I will also explore if higher priced wine is worth it, but that will be explained more in subsequent sections. "
   ]
  },
  {
   "cell_type": "markdown",
   "id": "cb7a6b87-d6af-4423-9253-9c55fb819347",
   "metadata": {
    "tags": []
   },
   "source": [
    "<img src=\"https://thewinewankers.files.wordpress.com/2014/02/a-different-types-of-wine-infographic-chart3.png\" width=1000 height=500 />"
   ]
  },
  {
   "cell_type": "markdown",
   "id": "a522b70b-1962-4c66-b148-24cc1f0ccada",
   "metadata": {},
   "source": [
    "Helpful resources: \n",
    "The image found above is from the book Wine Folly. I highly reccomend this for beginners intimdated by all the complexities of wine. This book is a good first step in understanding some terms Sommeliers use and different components that distinguish varieties of wine. As an added bonus, the book provides a lot of wine/food pairings. This book is good to get at libraries for its outstanding visuals."
   ]
  },
  {
   "cell_type": "markdown",
   "id": "ed59c3d3-6981-4687-bcad-669d9bedd763",
   "metadata": {},
   "source": [
    "Youtube Channels:\n",
    "https://www.youtube.com/user/askawinemaker/videos\n",
    "https://www.youtube.com/user/WineAlign\n",
    "\n",
    "I learn best through visual and audio means so seeing someone explain features of bottles as well as basic wine ettiquette has helped me and I believe can be useful to others."
   ]
  },
  {
   "cell_type": "markdown",
   "id": "ed86f8f9-3ead-42ab-82a1-0713061c5d34",
   "metadata": {},
   "source": [
    "For the analysis of our data we will follow the The Data Science Pipeline in order to understand more about the data in front of us "
   ]
  },
  {
   "cell_type": "markdown",
   "id": "e95ea4de-07fd-4ffd-aa0a-af01e33ec00c",
   "metadata": {},
   "source": [
    "**Disclaimer: This project is meant to explore the topic of wine in a healthy manner. Please practice safe and lawful consumption of alcohol. Be safe and know your limits.**"
   ]
  },
  {
   "cell_type": "markdown",
   "id": "f4d0aae5-cdd1-44dc-89ae-cc0a34290057",
   "metadata": {},
   "source": [
    "**Data Collection/Curation**"
   ]
  },
  {
   "cell_type": "markdown",
   "id": "afe5d62a-86a5-4853-bf86-97399a7fc688",
   "metadata": {
    "tags": []
   },
   "source": []
  },
  {
   "cell_type": "markdown",
   "id": "4c7cfbee-4315-403c-bb86-703577f1251e",
   "metadata": {},
   "source": [
    "For my dataset, I was lucky to find one on Kaggle with over 100,000 entries. The link can be found here: https://www.kaggle.com/datasets/christopheiv/winemagdata130k . I was able to download this data in a CSV (Comma-separated values) file. What this means is a text-file that is seperated by commas to distinguish information. Within this dataset are many useful columns including the name of the bottle, country of origin, price, description, and points. Points refer to a score out of 100 that refer to the level of wine a sommelier would rate a wine. Wine Spectator a renowned wine magazine with 400000+ wine expert wine ratings has blind-taste tests of wine and scores wine using this scale:\n",
    "\n",
    "95-100 Classic: a great wine\n",
    "\n",
    "90-94 Outstanding: a wine of superior character and style\n",
    "\n",
    "85-89 Very good: a wine with special qualities\n",
    "\n",
    "80-84 Good: a solid, well-made wine\n",
    "\n",
    "75-79 Mediocre: a drinkable wine that may have minor flaws\n",
    "\n",
    "50-74 Not recommended\n",
    "\n",
    "Different websites and magazines approach the scale differently, but the general trend is similar with preferences given to bottles over 90+ being excellent bottles. Without this dataset, the way I would approach scrapping is by doing a quick google search of wine data. Vivino is a great example of a website that stores many different reviewes of wine. However, it is very expansive and sorts by type of wine. So I would scrape a few thousand from each variety with a goal of about 10000+ reviews to have a good representation of bottom,mid, and high shelf wine from a multitude of wine varieties. Similar to Project 1, the data is tabulated fairly easily to scrape the HTML with BeautifulSoup. Luckly the dataset I found from Kaggle did a similar approach using data from WineMag. For the purposes of this project, the scale described above matches, but for Wine Magazine specific scale, that can be found in the link here: https://www.winemag.com/2010/04/09/you-asked-how-is-a-wines-score-determined/ . Wine Enthusiast Magazine also referred to as Wine Mag has some great resources for finding bottles of wine for every budget and is a great resource for beginners and experts alike to learn something new."
   ]
  },
  {
   "cell_type": "markdown",
   "id": "05df6697-7625-4f7d-9c82-c59c721e13e5",
   "metadata": {},
   "source": [
    "**Data Management / Representation**"
   ]
  },
  {
   "cell_type": "markdown",
   "id": "72ac3b0e-40e2-4aba-aea7-011807ab02af",
   "metadata": {},
   "source": [
    "For this project we will rely heavily on the Pandas library to represent our data. The matplot and seaborn library will be key in visualizing our data. Finally numpy will be key in preforming various operations on our data. As described above, the data is stored in a csv file. Once the file is imported into the Jupyter Notebook, all that is needed is to call the read_csv file to import all of the data stored. From there, it is the job of the data scientist to massage the data and make choices about missing data. For this data set, I can immediately drop the taster name, twitter handle, and unnamed column as none of these columns store useful data for our analysis."
   ]
  },
  {
   "cell_type": "code",
   "execution_count": 1,
   "id": "c08b6f2b-3ccd-439c-8dcd-93acf1aa0ef9",
   "metadata": {},
   "outputs": [],
   "source": [
    "import pandas as pd\n",
    "import matplotlib.pyplot as plt\n",
    "import seaborn as sns\n",
    "import numpy as np\n",
    "from scipy import stats"
   ]
  },
  {
   "cell_type": "markdown",
   "id": "fdc13f48-9a4d-4c7d-b406-8ff25dce6297",
   "metadata": {},
   "source": [
    "Lets take a peek into our data."
   ]
  },
  {
   "cell_type": "code",
   "execution_count": 2,
   "id": "718d7363-407e-4aae-9352-801fa0e63a49",
   "metadata": {},
   "outputs": [],
   "source": [
    "#wine set before dropping unnecessary operations\n",
    "wine_data = pd.read_csv(\"winemag-data-130k-v2.csv\")\n",
    "\n",
    "#Taster name and twitter tag are unnecesary for analysis\n",
    "wine_data.drop(\"taster_name\", axis=1, inplace=True)\n",
    "wine_data.drop(\"taster_twitter_handle\", axis=1, inplace=True)\n",
    "wine_data.drop(\"Unnamed: 0\", axis=1, inplace=True)"
   ]
  },
  {
   "cell_type": "markdown",
   "id": "50c2a53e-356a-494d-817a-fc88c2dc5ba0",
   "metadata": {},
   "source": [
    "For the dataset we have many different characteristics described in the kaggle spec: \n",
    "\n",
    "country-The country that the wine originates from\n",
    "\n",
    "description- An added description of some bottles in the dataset\n",
    "\n",
    "designation-The vineyard within the winery where the grapes that made the wine are from\n",
    "\n",
    "points-The point value that WineEnthusiast rated the wine on a scale of 1-100 \n",
    "\n",
    "price-The cost for a bottle of the wine\n",
    "\n",
    "province-The province or state that the wine is from\n",
    "\n",
    "region_1:The wine growing area in a province or state (ie Napa)\n",
    "\n",
    "region_2:Sometimes there are more specific regions specified within a wine growing area (ie Rutherford inside the Napa Valley),"
   ]
  },
  {
   "cell_type": "code",
   "execution_count": 3,
   "id": "2fc3b80a-cddc-4b17-8141-889bebc0c0de",
   "metadata": {},
   "outputs": [
    {
     "name": "stdout",
     "output_type": "stream",
     "text": [
      "<class 'pandas.core.frame.DataFrame'>\n",
      "RangeIndex: 129971 entries, 0 to 129970\n",
      "Data columns (total 11 columns):\n",
      " #   Column       Non-Null Count   Dtype  \n",
      "---  ------       --------------   -----  \n",
      " 0   country      129908 non-null  object \n",
      " 1   description  129971 non-null  object \n",
      " 2   designation  92506 non-null   object \n",
      " 3   points       129971 non-null  int64  \n",
      " 4   price        120975 non-null  float64\n",
      " 5   province     129908 non-null  object \n",
      " 6   region_1     108724 non-null  object \n",
      " 7   region_2     50511 non-null   object \n",
      " 8   title        129971 non-null  object \n",
      " 9   variety      129970 non-null  object \n",
      " 10  winery       129971 non-null  object \n",
      "dtypes: float64(1), int64(1), object(9)\n",
      "memory usage: 10.9+ MB\n"
     ]
    }
   ],
   "source": [
    "wine_data.info()"
   ]
  },
  {
   "cell_type": "markdown",
   "id": "47ef16cb-0e31-46a9-94dc-302520586133",
   "metadata": {},
   "source": [
    "For this model, I have chosen to drop rows without a wine bottle name, price, and point value. These will be needed in later sections and since we have so many data points we will still have many values to work with as shown below."
   ]
  },
  {
   "cell_type": "code",
   "execution_count": 4,
   "id": "826d0349-56eb-49c9-9ab7-afae839ca648",
   "metadata": {},
   "outputs": [
    {
     "name": "stdout",
     "output_type": "stream",
     "text": [
      "Number of values dropped = 8996\n",
      "Percent of values dropped = 6.921544036746659%\n",
      "Number of values left = 120975\n"
     ]
    }
   ],
   "source": [
    "#Dropping columns that do not have a price, point, or wine bottle name\n",
    "before = len(wine_data.index)\n",
    "\n",
    "wine_data = wine_data.dropna(subset=['price','points','title'])\n",
    "\n",
    "after = len(wine_data.index)\n",
    "\n",
    "tot = before - after\n",
    "print(\"Number of values dropped = \" + str(tot))\n",
    "\n",
    "tot = tot/before\n",
    "tot = tot*100\n",
    "print(\"Percent of values dropped = \" + str(tot) + \"%\")\n",
    "\n",
    "print(\"Number of values left = \" + str(after))"
   ]
  },
  {
   "cell_type": "markdown",
   "id": "13de8c16-1926-4ef9-bcba-605f9f5d4f51",
   "metadata": {},
   "source": [
    "**Since we still have over 120000 values to work with we can move forward with this model.**"
   ]
  },
  {
   "cell_type": "markdown",
   "id": "48bf640c-ff9b-4b51-852f-da91e5c654ad",
   "metadata": {},
   "source": [
    "In our model I utilized a CSV with data already in it. However, if we want to scrape data ourselves, we can take an approach similar to Project 1."
   ]
  },
  {
   "cell_type": "markdown",
   "id": "0dbc8202-92a8-446b-a649-a0ce59ab4c9d",
   "metadata": {},
   "source": [
    "The approach I would take would be to find a website that has data formatted similar to the HTML table. There are many great websites to pick from like Vivino and WineMag. From there we can use, beautiful soup to help \"prettify\" our data and have it formatted to our liking. From there we call the pandas read_csv function in order to have that formatted into a data set similar to how we have our dataframe above. The import requests library I imported above is utilized to allow our data to get it using the requests library."
   ]
  },
  {
   "cell_type": "markdown",
   "id": "8574226a-5331-42f0-b92b-b1f48f78b8ea",
   "metadata": {},
   "source": [
    "Explanatory Data Analysis"
   ]
  },
  {
   "cell_type": "code",
   "execution_count": 5,
   "id": "4297d554-cf0f-47df-ad2b-675c065ef79b",
   "metadata": {},
   "outputs": [
    {
     "name": "stdout",
     "output_type": "stream",
     "text": [
      "SUMMARY STATS FOR PRICE OF WINE IN THE DATASET\n",
      "Mean:  35.363389129985535 \n",
      "Std Dev:  41.022048119411714 \n",
      "Median:  25.0 \n",
      "Min:  4.0 \n",
      "Max:  3300.0\n"
     ]
    }
   ],
   "source": [
    "# Analyze Stats for Price\n",
    "mean = np.mean(wine_data['price'])\n",
    "median = np.median(wine_data['price'])\n",
    "mini = np.min(wine_data['price'])\n",
    "maxi = np.max(wine_data['price'])\n",
    "stddev = np.std(wine_data['price'])\n",
    "\n",
    "print('SUMMARY STATS FOR PRICE OF WINE IN THE DATASET')\n",
    "print('Mean: ', mean, '\\nStd Dev: ', stddev, '\\nMedian: ', median, '\\nMin: ', mini, '\\nMax: ', maxi)"
   ]
  },
  {
   "cell_type": "code",
   "execution_count": 6,
   "id": "54b69edf-5fba-4872-9ea3-fb5210fd5efb",
   "metadata": {
    "tags": []
   },
   "outputs": [
    {
     "data": {
      "image/png": "[encoded data removed]",
      "text/plain": [
       "<Figure size 1440x1080 with 1 Axes>"
      ]
     },
     "metadata": {
      "needs_background": "light"
     },
     "output_type": "display_data"
    }
   ],
   "source": [
    "plt.figure(figsize=(20,15))\n",
    "ax = sns.countplot(x=\"country\", data=wine_data)\n",
    "ax.set_xticklabels(ax.get_xticklabels(),rotation = 75)\n",
    "plt.show()"
   ]
  },
  {
   "cell_type": "code",
   "execution_count": 7,
   "id": "f6e5b148-39b2-4056-8dac-c0cebb24bd6d",
   "metadata": {
    "tags": []
   },
   "outputs": [
    {
     "data": {
      "image/png": "[encoded data removed]",
      "text/plain": [
       "<Figure size 1440x1080 with 1 Axes>"
      ]
     },
     "metadata": {
      "needs_background": "light"
     },
     "output_type": "display_data"
    }
   ],
   "source": [
    "plt.figure(figsize=(20,15)) \n",
    "ax = sns.countplot(x=\"points\", data=wine_data)\n",
    "ax.set_xticklabels(ax.get_xticklabels(),rotation = 0)\n",
    "plt.show()"
   ]
  },
  {
   "cell_type": "code",
   "execution_count": 8,
   "id": "412d89df-48bb-4bc5-8799-1ef6b533e208",
   "metadata": {
    "tags": []
   },
   "outputs": [
    {
     "name": "stdout",
     "output_type": "stream",
     "text": [
      "SUMMARY STATS FOR POINTS OF WINE IN THE DATASET\n",
      "Mean:  88.42188055383343 \n",
      "Std Dev:  3.044495379452498 \n",
      "Median:  88.0 \n",
      "Min:  80 \n",
      "Max:  100\n"
     ]
    }
   ],
   "source": [
    "# Analyze Stats for Price\n",
    "mean = np.mean(wine_data['points'])\n",
    "median = np.median(wine_data['points'])\n",
    "mini = np.min(wine_data['points'])\n",
    "maxi = np.max(wine_data['points'])\n",
    "stddev = np.std(wine_data['points'])\n",
    "\n",
    "print('SUMMARY STATS FOR POINTS OF WINE IN THE DATASET')\n",
    "print('Mean: ', mean, '\\nStd Dev: ', stddev, '\\nMedian: ', median, '\\nMin: ', mini, '\\nMax: ', maxi)"
   ]
  },
  {
   "cell_type": "code",
   "execution_count": null,
   "id": "735466bc-c615-4e64-86bf-1b389d20205b",
   "metadata": {
    "tags": []
   },
   "outputs": [],
   "source": []
  },
  {
   "cell_type": "markdown",
   "id": "18dfa4f6-2591-4eaa-83de-cb31a8de2e22",
   "metadata": {},
   "source": [
    "**As we can see, we have a pretty mixed dataset. Most of the wine is from the US, followed by France, Italy, Spain, and Portugal. However, we can see that there are a lot of different countries in our dataset. The points of the data set follow a fairly normal distribution centered around between 87 and 89 points. We can see that there are a lot of bottles in the 84-93 range and the values outside that range drop as they get further away from that range. There are a lot of wine prices in our datset, but the average is around x. The highest priced wine bottle in this dataset is x and the cheapest is x.**"
   ]
  },
  {
   "cell_type": "markdown",
   "id": "c185f391-15cc-4638-91a3-6a8394dc4ac3",
   "metadata": {},
   "source": [
    "**Hypothesis Testing**"
   ]
  },
  {
   "cell_type": "markdown",
   "id": "9ec7681b-45a9-4ba0-bc83-2a1cf2d36589",
   "metadata": {},
   "source": [
    "To start this part of the process, I first want to examine some of the correlation "
   ]
  },
  {
   "cell_type": "code",
   "execution_count": 9,
   "id": "eeacc3b4-b70c-4552-9d4d-bb9bd39faed8",
   "metadata": {},
   "outputs": [
    {
     "data": {
      "text/html": [
       "<div>\n",
       "<style scoped>\n",
       "    .dataframe tbody tr th:only-of-type {\n",
       "        vertical-align: middle;\n",
       "    }\n",
       "\n",
       "    .dataframe tbody tr th {\n",
       "        vertical-align: top;\n",
       "    }\n",
       "\n",
       "    .dataframe thead th {\n",
       "        text-align: right;\n",
       "    }\n",
       "</style>\n",
       "<table border=\"1\" class=\"dataframe\">\n",
       "  <thead>\n",
       "    <tr style=\"text-align: right;\">\n",
       "      <th></th>\n",
       "      <th>points</th>\n",
       "      <th>price</th>\n",
       "    </tr>\n",
       "  </thead>\n",
       "  <tbody>\n",
       "    <tr>\n",
       "      <th>points</th>\n",
       "      <td>1.000000</td>\n",
       "      <td>0.416167</td>\n",
       "    </tr>\n",
       "    <tr>\n",
       "      <th>price</th>\n",
       "      <td>0.416167</td>\n",
       "      <td>1.000000</td>\n",
       "    </tr>\n",
       "  </tbody>\n",
       "</table>\n",
       "</div>"
      ],
      "text/plain": [
       "          points     price\n",
       "points  1.000000  0.416167\n",
       "price   0.416167  1.000000"
      ]
     },
     "execution_count": 9,
     "metadata": {},
     "output_type": "execute_result"
    }
   ],
   "source": [
    "wine_data.corr()"
   ]
  },
  {
   "cell_type": "code",
   "execution_count": 10,
   "id": "c7a7eb1d-325c-460a-b33a-1f710f715923",
   "metadata": {},
   "outputs": [
    {
     "data": {
      "text/html": [
       "<div>\n",
       "<style scoped>\n",
       "    .dataframe tbody tr th:only-of-type {\n",
       "        vertical-align: middle;\n",
       "    }\n",
       "\n",
       "    .dataframe tbody tr th {\n",
       "        vertical-align: top;\n",
       "    }\n",
       "\n",
       "    .dataframe thead th {\n",
       "        text-align: right;\n",
       "    }\n",
       "</style>\n",
       "<table border=\"1\" class=\"dataframe\">\n",
       "  <thead>\n",
       "    <tr style=\"text-align: right;\">\n",
       "      <th></th>\n",
       "      <th>points</th>\n",
       "      <th>price</th>\n",
       "    </tr>\n",
       "  </thead>\n",
       "  <tbody>\n",
       "    <tr>\n",
       "      <th>points</th>\n",
       "      <td>1.000000</td>\n",
       "      <td>0.548092</td>\n",
       "    </tr>\n",
       "    <tr>\n",
       "      <th>price</th>\n",
       "      <td>0.548092</td>\n",
       "      <td>1.000000</td>\n",
       "    </tr>\n",
       "  </tbody>\n",
       "</table>\n",
       "</div>"
      ],
      "text/plain": [
       "          points     price\n",
       "points  1.000000  0.548092\n",
       "price   0.548092  1.000000"
      ]
     },
     "execution_count": 10,
     "metadata": {},
     "output_type": "execute_result"
    }
   ],
   "source": [
    "less_than_100 = wine_data[wine_data[\"price\"] <= 100]\n",
    "less_than_100.corr()"
   ]
  },
  {
   "cell_type": "code",
   "execution_count": 11,
   "id": "8be7c52f-7702-43be-9c2b-c97339fb42ac",
   "metadata": {},
   "outputs": [
    {
     "data": {
      "text/html": [
       "<div>\n",
       "<style scoped>\n",
       "    .dataframe tbody tr th:only-of-type {\n",
       "        vertical-align: middle;\n",
       "    }\n",
       "\n",
       "    .dataframe tbody tr th {\n",
       "        vertical-align: top;\n",
       "    }\n",
       "\n",
       "    .dataframe thead th {\n",
       "        text-align: right;\n",
       "    }\n",
       "</style>\n",
       "<table border=\"1\" class=\"dataframe\">\n",
       "  <thead>\n",
       "    <tr style=\"text-align: right;\">\n",
       "      <th></th>\n",
       "      <th>points</th>\n",
       "      <th>price</th>\n",
       "    </tr>\n",
       "  </thead>\n",
       "  <tbody>\n",
       "    <tr>\n",
       "      <th>points</th>\n",
       "      <td>1.000000</td>\n",
       "      <td>0.497463</td>\n",
       "    </tr>\n",
       "    <tr>\n",
       "      <th>price</th>\n",
       "      <td>0.497463</td>\n",
       "      <td>1.000000</td>\n",
       "    </tr>\n",
       "  </tbody>\n",
       "</table>\n",
       "</div>"
      ],
      "text/plain": [
       "          points     price\n",
       "points  1.000000  0.497463\n",
       "price   0.497463  1.000000"
      ]
     },
     "execution_count": 11,
     "metadata": {},
     "output_type": "execute_result"
    }
   ],
   "source": [
    "less_than_50 = wine_data[wine_data[\"price\"] <= 50]\n",
    "less_than_50.corr()"
   ]
  },
  {
   "cell_type": "code",
   "execution_count": 12,
   "id": "a7b39514-12f1-4d1f-857d-f9ef3f23fc3d",
   "metadata": {},
   "outputs": [
    {
     "name": "stdout",
     "output_type": "stream",
     "text": [
      "120975\n",
      "120975\n"
     ]
    }
   ],
   "source": [
    "# store the feature matrix (X) and response vector (y)\n",
    "x = wine_data['price'].values.reshape(-1,1)\n",
    "y = wine_data['points'].values.reshape(-1,1)\n",
    "\n",
    "print(x.size)\n",
    "print(y.size)\n",
    "\n",
    "#Ensure both equal each other and match up"
   ]
  },
  {
   "cell_type": "code",
   "execution_count": 13,
   "id": "5838008d-7bab-49d9-a715-65c919732783",
   "metadata": {},
   "outputs": [],
   "source": [
    "import numpy as np\n",
    "from sklearn.linear_model import LinearRegression\n",
    "\n",
    "\n",
    "linear_regressor = LinearRegression()  # create object for the class\n",
    "linear_regressor.fit(x, y)  # perform linear regression\n",
    "Y_pred = linear_regressor.predict(x)  "
   ]
  },
  {
   "cell_type": "code",
   "execution_count": 14,
   "id": "00a57071-bd9a-49ca-8cdd-9751e42111b8",
   "metadata": {},
   "outputs": [
    {
     "data": {
      "image/png": "[encoded data removed]",
      "text/plain": [
       "<Figure size 432x288 with 1 Axes>"
      ]
     },
     "metadata": {
      "needs_background": "light"
     },
     "output_type": "display_data"
    }
   ],
   "source": [
    "plt.scatter(x, y)\n",
    "plt.plot(x, Y_pred, color='red')\n",
    "plt.show()"
   ]
  },
  {
   "cell_type": "markdown",
   "id": "059ee46f-822d-4913-a621-81874bb6238d",
   "metadata": {},
   "source": [
    "In this case we can see that a simple linear regression model may not make sense for all of the data points, However let's attempt it for the miniture data set we created earlier."
   ]
  },
  {
   "cell_type": "code",
   "execution_count": 15,
   "id": "49cca9c6-c476-4d98-8de5-21185e0c48bd",
   "metadata": {},
   "outputs": [
    {
     "data": {
      "image/png": "[encoded data removed]",
      "text/plain": [
       "<Figure size 432x288 with 1 Axes>"
      ]
     },
     "metadata": {
      "needs_background": "light"
     },
     "output_type": "display_data"
    }
   ],
   "source": [
    "x1 = less_than_100['price'].values.reshape(-1,1)\n",
    "y1 = less_than_100['points'].values.reshape(-1,1)\n",
    "\n",
    "linear_regressor = LinearRegression()  # create object for the class\n",
    "linear_regressor.fit(x1, y1)  # perform linear regression\n",
    "Y_pred = linear_regressor.predict(x1)  \n",
    "plt.scatter(x1, y1)\n",
    "plt.plot(x1, Y_pred, color='red')\n",
    "plt.show()"
   ]
  },
  {
   "cell_type": "markdown",
   "id": "7df7af38-8859-4594-9a8f-3bd7c4e46ff6",
   "metadata": {},
   "source": [
    "This seems to match our data somewhat better, however are there other approaches we can utilize."
   ]
  },
  {
   "cell_type": "code",
   "execution_count": 16,
   "id": "32ca5a61-900d-48bc-aa46-38a07992bd49",
   "metadata": {},
   "outputs": [],
   "source": [
    "from sklearn.linear_model import SGDRegressor\n",
    "from sklearn.datasets import load_boston\n",
    "from sklearn.datasets import make_regression\n",
    "from sklearn.metrics import mean_squared_error\n",
    "from sklearn.model_selection import train_test_split\n",
    "from sklearn.model_selection import cross_val_score\n",
    "from sklearn.preprocessing import scale"
   ]
  },
  {
   "cell_type": "code",
   "execution_count": 23,
   "id": "42880123-5b4b-428b-b111-64165df2cd00",
   "metadata": {},
   "outputs": [
    {
     "name": "stderr",
     "output_type": "stream",
     "text": [
      "/opt/conda/lib/python3.9/site-packages/sklearn/utils/validation.py:993: DataConversionWarning: A column-vector y was passed when a 1d array was expected. Please change the shape of y to (n_samples, ), for example using ravel().\n",
      "  y = column_or_1d(y, warn=True)\n"
     ]
    },
    {
     "name": "stdout",
     "output_type": "stream",
     "text": [
      "R-squared: 0.1231418059693582\n"
     ]
    },
    {
     "name": "stderr",
     "output_type": "stream",
     "text": [
      "/opt/conda/lib/python3.9/site-packages/sklearn/utils/validation.py:993: DataConversionWarning: A column-vector y was passed when a 1d array was expected. Please change the shape of y to (n_samples, ), for example using ravel().\n",
      "  y = column_or_1d(y, warn=True)\n",
      "/opt/conda/lib/python3.9/site-packages/sklearn/utils/validation.py:993: DataConversionWarning: A column-vector y was passed when a 1d array was expected. Please change the shape of y to (n_samples, ), for example using ravel().\n",
      "  y = column_or_1d(y, warn=True)\n",
      "/opt/conda/lib/python3.9/site-packages/sklearn/utils/validation.py:993: DataConversionWarning: A column-vector y was passed when a 1d array was expected. Please change the shape of y to (n_samples, ), for example using ravel().\n",
      "  y = column_or_1d(y, warn=True)\n",
      "/opt/conda/lib/python3.9/site-packages/sklearn/utils/validation.py:993: DataConversionWarning: A column-vector y was passed when a 1d array was expected. Please change the shape of y to (n_samples, ), for example using ravel().\n",
      "  y = column_or_1d(y, warn=True)\n",
      "/opt/conda/lib/python3.9/site-packages/sklearn/utils/validation.py:993: DataConversionWarning: A column-vector y was passed when a 1d array was expected. Please change the shape of y to (n_samples, ), for example using ravel().\n",
      "  y = column_or_1d(y, warn=True)\n",
      "/opt/conda/lib/python3.9/site-packages/sklearn/utils/validation.py:993: DataConversionWarning: A column-vector y was passed when a 1d array was expected. Please change the shape of y to (n_samples, ), for example using ravel().\n",
      "  y = column_or_1d(y, warn=True)\n",
      "/opt/conda/lib/python3.9/site-packages/sklearn/utils/validation.py:993: DataConversionWarning: A column-vector y was passed when a 1d array was expected. Please change the shape of y to (n_samples, ), for example using ravel().\n",
      "  y = column_or_1d(y, warn=True)\n",
      "/opt/conda/lib/python3.9/site-packages/sklearn/utils/validation.py:993: DataConversionWarning: A column-vector y was passed when a 1d array was expected. Please change the shape of y to (n_samples, ), for example using ravel().\n",
      "  y = column_or_1d(y, warn=True)\n",
      "/opt/conda/lib/python3.9/site-packages/sklearn/utils/validation.py:993: DataConversionWarning: A column-vector y was passed when a 1d array was expected. Please change the shape of y to (n_samples, ), for example using ravel().\n",
      "  y = column_or_1d(y, warn=True)\n",
      "/opt/conda/lib/python3.9/site-packages/sklearn/utils/validation.py:993: DataConversionWarning: A column-vector y was passed when a 1d array was expected. Please change the shape of y to (n_samples, ), for example using ravel().\n",
      "  y = column_or_1d(y, warn=True)\n"
     ]
    },
    {
     "name": "stdout",
     "output_type": "stream",
     "text": [
      "CV mean score:  -64.99471316517506\n",
      "MSE:  8.387096044012836\n",
      "RMSE:  2.8960483497367298\n"
     ]
    },
    {
     "data": {
      "image/png": "[encoded data removed]",
      "text/plain": [
       "<Figure size 432x288 with 1 Axes>"
      ]
     },
     "metadata": {
      "needs_background": "light"
     },
     "output_type": "display_data"
    }
   ],
   "source": [
    "xtrain, xtest, ytrain, ytest=train_test_split(x, y, test_size=0.25)\n",
    "sgdr = SGDRegressor()\n",
    "\n",
    "sgdr.fit(xtrain, ytrain)\n",
    "\n",
    "score = sgdr.score(xtrain, ytrain)\n",
    "print(\"R-squared:\", score)\n",
    "\n",
    "cv_score = cross_val_score(sgdr, x, y, cv = 10)\n",
    "print(\"CV mean score: \", cv_score.mean())\n",
    "\n",
    "ypred = sgdr.predict(xtest)\n",
    "\n",
    "mse = mean_squared_error(ytest, ypred)\n",
    "print(\"MSE: \", mse)\n",
    "print(\"RMSE: \", mse**(1/2.0)) \n",
    "\n",
    "x_ax = range(len(ytest))\n",
    "plt.plot(x_ax, ytest, linewidth=2, label=\"original\")\n",
    "plt.plot(x_ax, ypred, linewidth=2.1, label=\"predicted\")\n",
    "plt.title(\"Y-test and Y-predicted data for SGD Regressor\")\n",
    "plt.xlabel('X-axis')\n",
    "plt.ylabel('Y-axis')\n",
    "plt.legend(loc='best',fancybox=True, shadow=True)\n",
    "plt.grid(True)\n",
    "plt.show() "
   ]
  },
  {
   "cell_type": "markdown",
   "id": "aae5372e-b3c1-4f33-9017-4fe5ceecbd79",
   "metadata": {},
   "source": [
    "Above we use SGDRegressor() to implement a plain stochastic gradient descent (SGD) learning routine. This routine utilizes different loss functions and penalties in order to fit linear regression models for the training data above. With the large Root and MSE value we can see this is not a perfect regression model. The pearson-correlation values we looked at prior to implementing this makes these graphs make sense. We can see this as price may not be the greatest indicator of points after a certain price. It appears that the point system"
   ]
  },
  {
   "cell_type": "markdown",
   "id": "1072aa27-6e17-40b6-9caf-660c8bf7755a",
   "metadata": {},
   "source": [
    "**Communication of insights attained**"
   ]
  },
  {
   "cell_type": "markdown",
   "id": "fbba6db0-3fed-4ce2-a3f7-69320b29a6af",
   "metadata": {},
   "source": [
    "Contrary to popular belief there are many bottles that are great and relatively cheap An example search with results is shown below."
   ]
  },
  {
   "cell_type": "code",
   "execution_count": null,
   "id": "29ed3875-a2fb-4d0d-b7a2-21a176f2706e",
   "metadata": {},
   "outputs": [],
   "source": [
    "less_than_15_dollars = wine_data[wine_data[\"price\"] <= 20]\n",
    "cheap_excellent = less_than_15_dollars[less_than_15_dollars[\"points\"] >= 95]\n",
    "cheap_excellent.head(5)"
   ]
  },
  {
   "cell_type": "code",
   "execution_count": null,
   "id": "3892de2d-ee63-4147-bf3e-e938a50f1cec",
   "metadata": {},
   "outputs": [],
   "source": [
    "one_hundred_points = wine_data[wine_data[\"points\"] == 99]\n",
    "one_hundred_points.head()"
   ]
  },
  {
   "cell_type": "markdown",
   "id": "513b6fa8-2445-43d2-9e05-479b29977d27",
   "metadata": {},
   "source": [
    "I intend on exploring some of the options above. However, one note is that with such a p-value it may seem like a done deal to not think that expensive bottles of wine may be worth it, but that is not the goal of this process. The process is meant to uncover the hidden gems that are not explored and to understand wine does not have to be elitist. Be safe, enjoy responsibly, and thank you for a great semester!\n",
    "Visit local winery. For Maryland the link is provided below. This project was very insightful in seeing the value of that 20-25 bottle of wine. In that range, there appears to be a ton of value and the bottles listed above are just a small example of that.\n",
    "\n",
    "<a href=\"https://marylandwine.com/map/\">Interactive Wine Map of Maryland</a>"
   ]
  }
 ],
 "metadata": {
  "kernelspec": {
   "display_name": "Python 3 (ipykernel)",
   "language": "python",
   "name": "python3"
  },
  "language_info": {
   "codemirror_mode": {
    "name": "ipython",
    "version": 3
   },
   "file_extension": ".py",
   "mimetype": "text/x-python",
   "name": "python",
   "nbconvert_exporter": "python",
   "pygments_lexer": "ipython3",
   "version": "3.9.7"
  }
 },
 "nbformat": 4,
 "nbformat_minor": 5
}
